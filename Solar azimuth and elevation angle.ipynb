{
 "cells": [
  {
   "cell_type": "code",
   "execution_count": 8,
   "metadata": {},
   "outputs": [
    {
     "name": "stdout",
     "output_type": "stream",
     "text": [
      "Elevación solar=  43.151243000159475\n",
      "Azimut solar=  108.3935314405358\n",
      "Angulo longitudinal=  51.606468559464204\n",
      "Azimut transversal=  46.848756999840525\n"
     ]
    }
   ],
   "source": [
    "\n",
    "# Solar orientation in a determined position and time following the mathematical relations extracted from Benford & Bock \n",
    "\n",
    "# import time\n",
    "# import matplotlib.pylab as plt\n",
    "import math\n",
    "import numpy as np\n",
    "import warnings\n",
    "\n",
    "## Inputs\n",
    "# Latitude (angular localization to the north or south regarding the Ecuador) \n",
    "# Longitude (marcará el huso horario)\n",
    "\n",
    "## Variables\n",
    "# w (angulo de hora) w=0 at solar noon , it changes 15º/h and it can be\n",
    "# calculated from the sunset hour where theta_z= 90º; it is negative before 12 pm\n",
    "# theta_z (angulo zenit) angulo entre la vertical y la linea del sol \n",
    "# gamma_s (angulo solar azimut) desplazamiento angular desde el sur de la\n",
    "# proyeccion de la radiacion del haz en el plano horizontal\n",
    "# delta (declinacion) posicion angular del sol en la hora solar, calculada con la aproximacion de Cooper\n",
    "\n",
    "# INPUTS\n",
    "dia= 21\n",
    "mes= 8 \n",
    "lat = 35    # (º)\n",
    "long = 0    # (º)\n",
    "lat = lat *np.pi/180   # conversion a radiantes\n",
    "huso_horario= np.sign(long)*(math.floor((abs(long)-7.5)/15)+1)    # UTC\n",
    "\n",
    "# Tilted surface\n",
    "x_angle = -20   # (º) wrt the South \n",
    "y_angle = 0   # (º) wrt the vertical\n",
    "\n",
    "# Hora solar verdadera con respecto al meridiano de Greenwich\n",
    "hora_sv = -3   # hora solar verdadera (h)\n",
    "\n",
    "# Calculo dia juliano \n",
    "vec= np.array([0, 31, 28, 31, 30, 31, 30, 31, 31, 30, 31, 30])\n",
    "dia_juliano = sum(vec[0:mes])+dia\n",
    "delta = 23.45*np.sin((np.pi/180)*360*(284+dia_juliano)/365)\n",
    "delta = delta*np.pi/180\n",
    "\n",
    "if abs(np.tan(lat)*np.tan(delta))>1:\n",
    "    warnings.warn('No sunset or sunrise')\n",
    "\n",
    "\n",
    "w_s = np.arccos(-(np.tan(lat)*np.tan(delta)))   # angulo solar atardecer  \n",
    "N= (2.0/15.0)*180/np.pi*np.arccos(-np.tan(lat)*np.tan(delta))  # day light hours\n",
    "\n",
    "w = hora_sv*15.0*np.pi/180+long*np.pi/180\n",
    "\n",
    "if abs(w)>w_s:\n",
    "    warnings.warn('Night Time')\n",
    "    exit()\n",
    "\n",
    "\n",
    "theta_z=np.arccos(np.cos(lat)*np.cos(delta)*np.cos(w)+np.sin(lat)*np.sin(delta))\n",
    "elevacion_solar = 90-theta_z*180/np.pi\n",
    "\n",
    "gamma_s = np.arccos((1/np.cos(np.pi/2-theta_z))*(np.cos(delta)*np.sin(lat)*np.cos(w)-np.sin(delta)*np.cos(lat)))\n",
    "azimut_solar = 180 + np.sign(w)*gamma_s*180/np.pi\n",
    "\n",
    "if azimut_solar > x_angle+180+90:\n",
    "    warnings.warn('Bad Mirror Tracking')\n",
    "    exit()\n",
    "if azimut_solar < x_angle+180-90:\n",
    "    warnings.warn('Bad Mirror Tracking')\n",
    "    exit()\n",
    "    \n",
    "long_angle = np.abs(azimut_solar-(x_angle+180))\n",
    "trans_angle = np.arccos(np.cos(elevacion_solar*np.pi/180)* \\\n",
    "                        np.cos(long_angle*np.pi/180)*np.sin(y_angle*np.pi/180)+ \\\n",
    "                        np.sin(elevacion_solar*np.pi/180)*np.cos(y_angle*np.pi/180))\n",
    "\n",
    "trans_angle = trans_angle*180/np.pi\n",
    "    \n",
    "print (\"Elevación solar= \", elevacion_solar)\n",
    "print (\"Azimut solar= \", azimut_solar)\n",
    "print (\"Angulo longitudinal= \", long_angle)\n",
    "print (\"Azimut transversal= \", trans_angle)"
   ]
  },
  {
   "cell_type": "code",
   "execution_count": 12,
   "metadata": {},
   "outputs": [
    {
     "data": {
      "text/plain": [
       "0.7295508925840839"
      ]
     },
     "execution_count": 12,
     "metadata": {},
     "output_type": "execute_result"
    }
   ],
   "source": [
    "np.sin(theta_z)"
   ]
  },
  {
   "cell_type": "code",
   "execution_count": null,
   "metadata": {},
   "outputs": [],
   "source": []
  },
  {
   "cell_type": "code",
   "execution_count": null,
   "metadata": {},
   "outputs": [],
   "source": []
  }
 ],
 "metadata": {
  "kernelspec": {
   "display_name": "Python 3",
   "language": "python",
   "name": "python3"
  },
  "language_info": {
   "codemirror_mode": {
    "name": "ipython",
    "version": 3
   },
   "file_extension": ".py",
   "mimetype": "text/x-python",
   "name": "python",
   "nbconvert_exporter": "python",
   "pygments_lexer": "ipython3",
   "version": "3.6.4"
  }
 },
 "nbformat": 4,
 "nbformat_minor": 2
}
